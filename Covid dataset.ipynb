{
 "cells": [
  {
   "cell_type": "code",
   "execution_count": 73,
   "metadata": {},
   "outputs": [],
   "source": [
    "import pandas as pd\n",
    "import numpy as np\n",
    "import seaborn as sns\n",
    "import matplotlib.pyplot as plt\n",
    "import warnings\n",
    "warnings.filterwarnings('ignore')"
   ]
  },
  {
   "cell_type": "code",
   "execution_count": 74,
   "metadata": {},
   "outputs": [
    {
     "data": {
      "text/html": [
       "<div>\n",
       "<style scoped>\n",
       "    .dataframe tbody tr th:only-of-type {\n",
       "        vertical-align: middle;\n",
       "    }\n",
       "\n",
       "    .dataframe tbody tr th {\n",
       "        vertical-align: top;\n",
       "    }\n",
       "\n",
       "    .dataframe thead th {\n",
       "        text-align: right;\n",
       "    }\n",
       "</style>\n",
       "<table border=\"1\" class=\"dataframe\">\n",
       "  <thead>\n",
       "    <tr style=\"text-align: right;\">\n",
       "      <th></th>\n",
       "      <th>Date</th>\n",
       "      <th>Country</th>\n",
       "      <th>Confirmed</th>\n",
       "      <th>Recovered</th>\n",
       "      <th>Deaths</th>\n",
       "    </tr>\n",
       "  </thead>\n",
       "  <tbody>\n",
       "    <tr>\n",
       "      <th>0</th>\n",
       "      <td>2020-01-22</td>\n",
       "      <td>Afghanistan</td>\n",
       "      <td>0</td>\n",
       "      <td>0</td>\n",
       "      <td>0</td>\n",
       "    </tr>\n",
       "    <tr>\n",
       "      <th>1</th>\n",
       "      <td>2020-01-22</td>\n",
       "      <td>Albania</td>\n",
       "      <td>0</td>\n",
       "      <td>0</td>\n",
       "      <td>0</td>\n",
       "    </tr>\n",
       "    <tr>\n",
       "      <th>2</th>\n",
       "      <td>2020-01-22</td>\n",
       "      <td>Algeria</td>\n",
       "      <td>0</td>\n",
       "      <td>0</td>\n",
       "      <td>0</td>\n",
       "    </tr>\n",
       "    <tr>\n",
       "      <th>3</th>\n",
       "      <td>2020-01-22</td>\n",
       "      <td>Andorra</td>\n",
       "      <td>0</td>\n",
       "      <td>0</td>\n",
       "      <td>0</td>\n",
       "    </tr>\n",
       "    <tr>\n",
       "      <th>4</th>\n",
       "      <td>2020-01-22</td>\n",
       "      <td>Angola</td>\n",
       "      <td>0</td>\n",
       "      <td>0</td>\n",
       "      <td>0</td>\n",
       "    </tr>\n",
       "  </tbody>\n",
       "</table>\n",
       "</div>"
      ],
      "text/plain": [
       "        Date      Country  Confirmed  Recovered  Deaths\n",
       "0 2020-01-22  Afghanistan          0          0       0\n",
       "1 2020-01-22      Albania          0          0       0\n",
       "2 2020-01-22      Algeria          0          0       0\n",
       "3 2020-01-22      Andorra          0          0       0\n",
       "4 2020-01-22       Angola          0          0       0"
      ]
     },
     "execution_count": 74,
     "metadata": {},
     "output_type": "execute_result"
    }
   ],
   "source": [
    "df_cov=pd.read_csv('covid.csv',parse_dates=['Date'])\n",
    "df_cov=pd.DataFrame(df_cov)\n",
    "df_cov.head()"
   ]
  },
  {
   "cell_type": "code",
   "execution_count": 75,
   "metadata": {},
   "outputs": [
    {
     "data": {
      "text/plain": [
       "<matplotlib.axes._subplots.AxesSubplot at 0x21412ade388>"
      ]
     },
     "execution_count": 75,
     "metadata": {},
     "output_type": "execute_result"
    },
    {
     "data": {
      "image/png": "[encoded data removed]",
      "text/plain": [
       "<Figure size 432x288 with 2 Axes>"
      ]
     },
     "metadata": {
      "needs_background": "light"
     },
     "output_type": "display_data"
    }
   ],
   "source": [
    "#checking for any missing data\n",
    "sns.heatmap(df_cov.isnull())"
   ]
  },
  {
   "cell_type": "code",
   "execution_count": 76,
   "metadata": {},
   "outputs": [
    {
     "data": {
      "text/plain": [
       "Date         0\n",
       "Country      0\n",
       "Confirmed    0\n",
       "Recovered    0\n",
       "Deaths       0\n",
       "dtype: int64"
      ]
     },
     "execution_count": 76,
     "metadata": {},
     "output_type": "execute_result"
    }
   ],
   "source": [
    "df_cov.isnull().sum()"
   ]
  },
  {
   "cell_type": "code",
   "execution_count": 77,
   "metadata": {},
   "outputs": [
    {
     "data": {
      "text/plain": [
       "Date\n",
       "2020-01-22    17\n",
       "2020-01-23    18\n",
       "2020-01-24    26\n",
       "2020-01-25    42\n",
       "2020-01-26    56\n",
       "Name: No of deaths, dtype: int64"
      ]
     },
     "execution_count": 77,
     "metadata": {},
     "output_type": "execute_result"
    }
   ],
   "source": [
    "## format datetime column\n",
    "df_cov[\"Date\"] = pd.to_datetime(df_cov['Date'], format='%Y.%m.%d')\n",
    "## create time series\n",
    "ts = df_cov.groupby(\"Date\")[\"Deaths\"].sum().rename(\"No of deaths\")\n",
    "ts.head()"
   ]
  },
  {
   "cell_type": "code",
   "execution_count": 78,
   "metadata": {},
   "outputs": [
    {
     "data": {
      "text/plain": [
       "Date\n",
       "2020-01-22     555\n",
       "2020-01-23     654\n",
       "2020-01-24     941\n",
       "2020-01-25    1434\n",
       "2020-01-26    2118\n",
       "Name: No of confirmed cases, dtype: int64"
      ]
     },
     "execution_count": 78,
     "metadata": {},
     "output_type": "execute_result"
    }
   ],
   "source": [
    "df_cov[\"Date\"] = pd.to_datetime(df_cov['Date'], format='%Y.%m.%d')\n",
    "ts1 = df_cov.groupby(\"Date\")[\"Confirmed\"].sum().rename(\"No of confirmed cases\")\n",
    "ts1.head()"
   ]
  },
  {
   "cell_type": "code",
   "execution_count": 79,
   "metadata": {},
   "outputs": [
    {
     "data": {
      "text/plain": [
       "Date\n",
       "2020-01-22    28\n",
       "2020-01-23    30\n",
       "2020-01-24    36\n",
       "2020-01-25    39\n",
       "2020-01-26    52\n",
       "Name: No of recovered cases, dtype: int64"
      ]
     },
     "execution_count": 79,
     "metadata": {},
     "output_type": "execute_result"
    }
   ],
   "source": [
    "df_cov[\"Date\"] = pd.to_datetime(df_cov['Date'], format='%Y.%m.%d')\n",
    "ts2 = df_cov.groupby(\"Date\")[\"Recovered\"].sum().rename(\"No of recovered cases\")\n",
    "ts2.head()"
   ]
  },
  {
   "cell_type": "code",
   "execution_count": 80,
   "metadata": {},
   "outputs": [],
   "source": [
    "df_covid=pd.concat([ts,ts1,ts2],axis=1)"
   ]
  },
  {
   "cell_type": "code",
   "execution_count": 81,
   "metadata": {},
   "outputs": [
    {
     "data": {
      "text/html": [
       "<div>\n",
       "<style scoped>\n",
       "    .dataframe tbody tr th:only-of-type {\n",
       "        vertical-align: middle;\n",
       "    }\n",
       "\n",
       "    .dataframe tbody tr th {\n",
       "        vertical-align: top;\n",
       "    }\n",
       "\n",
       "    .dataframe thead th {\n",
       "        text-align: right;\n",
       "    }\n",
       "</style>\n",
       "<table border=\"1\" class=\"dataframe\">\n",
       "  <thead>\n",
       "    <tr style=\"text-align: right;\">\n",
       "      <th></th>\n",
       "      <th>Date</th>\n",
       "      <th>No of deaths</th>\n",
       "      <th>No of confirmed cases</th>\n",
       "      <th>No of recovered cases</th>\n",
       "    </tr>\n",
       "  </thead>\n",
       "  <tbody>\n",
       "    <tr>\n",
       "      <th>0</th>\n",
       "      <td>2020-01-22</td>\n",
       "      <td>17</td>\n",
       "      <td>555</td>\n",
       "      <td>28</td>\n",
       "    </tr>\n",
       "    <tr>\n",
       "      <th>1</th>\n",
       "      <td>2020-01-23</td>\n",
       "      <td>18</td>\n",
       "      <td>654</td>\n",
       "      <td>30</td>\n",
       "    </tr>\n",
       "    <tr>\n",
       "      <th>2</th>\n",
       "      <td>2020-01-24</td>\n",
       "      <td>26</td>\n",
       "      <td>941</td>\n",
       "      <td>36</td>\n",
       "    </tr>\n",
       "    <tr>\n",
       "      <th>3</th>\n",
       "      <td>2020-01-25</td>\n",
       "      <td>42</td>\n",
       "      <td>1434</td>\n",
       "      <td>39</td>\n",
       "    </tr>\n",
       "    <tr>\n",
       "      <th>4</th>\n",
       "      <td>2020-01-26</td>\n",
       "      <td>56</td>\n",
       "      <td>2118</td>\n",
       "      <td>52</td>\n",
       "    </tr>\n",
       "  </tbody>\n",
       "</table>\n",
       "</div>"
      ],
      "text/plain": [
       "        Date  No of deaths  No of confirmed cases  No of recovered cases\n",
       "0 2020-01-22            17                    555                     28\n",
       "1 2020-01-23            18                    654                     30\n",
       "2 2020-01-24            26                    941                     36\n",
       "3 2020-01-25            42                   1434                     39\n",
       "4 2020-01-26            56                   2118                     52"
      ]
     },
     "execution_count": 81,
     "metadata": {},
     "output_type": "execute_result"
    }
   ],
   "source": [
    "df_covid= df_covid.reset_index()\n",
    "df_covid.head()"
   ]
  },
  {
   "cell_type": "code",
   "execution_count": 82,
   "metadata": {},
   "outputs": [],
   "source": [
    "df_cov_dates=pd.DataFrame()"
   ]
  },
  {
   "cell_type": "code",
   "execution_count": 83,
   "metadata": {},
   "outputs": [],
   "source": [
    "df_cov_dates['month']=df_covid['Date'].dt.month_name()\n",
    "df_cov_dates['year']=df_covid['Date'].dt.year\n",
    "df_cov_dates['day']=df_covid['Date'].dt.day_name()\n",
    "df_cov_dates['No of deaths']=df_covid['No of deaths']\n",
    "df_cov_dates['No of confirmed cases']=df_covid['No of confirmed cases']\n",
    "df_cov_dates['No of recovered cases']=df_covid['No of recovered cases']"
   ]
  },
  {
   "cell_type": "code",
   "execution_count": 84,
   "metadata": {},
   "outputs": [
    {
     "data": {
      "text/html": [
       "<div>\n",
       "<style scoped>\n",
       "    .dataframe tbody tr th:only-of-type {\n",
       "        vertical-align: middle;\n",
       "    }\n",
       "\n",
       "    .dataframe tbody tr th {\n",
       "        vertical-align: top;\n",
       "    }\n",
       "\n",
       "    .dataframe thead th {\n",
       "        text-align: right;\n",
       "    }\n",
       "</style>\n",
       "<table border=\"1\" class=\"dataframe\">\n",
       "  <thead>\n",
       "    <tr style=\"text-align: right;\">\n",
       "      <th></th>\n",
       "      <th>month</th>\n",
       "      <th>year</th>\n",
       "      <th>day</th>\n",
       "      <th>No of deaths</th>\n",
       "      <th>No of confirmed cases</th>\n",
       "      <th>No of recovered cases</th>\n",
       "      <th>Type_of_day</th>\n",
       "    </tr>\n",
       "  </thead>\n",
       "  <tbody>\n",
       "    <tr>\n",
       "      <th>0</th>\n",
       "      <td>January</td>\n",
       "      <td>2020</td>\n",
       "      <td>Wednesday</td>\n",
       "      <td>17</td>\n",
       "      <td>555</td>\n",
       "      <td>28</td>\n",
       "      <td>weekday</td>\n",
       "    </tr>\n",
       "    <tr>\n",
       "      <th>1</th>\n",
       "      <td>January</td>\n",
       "      <td>2020</td>\n",
       "      <td>Thursday</td>\n",
       "      <td>18</td>\n",
       "      <td>654</td>\n",
       "      <td>30</td>\n",
       "      <td>weekday</td>\n",
       "    </tr>\n",
       "    <tr>\n",
       "      <th>2</th>\n",
       "      <td>January</td>\n",
       "      <td>2020</td>\n",
       "      <td>Friday</td>\n",
       "      <td>26</td>\n",
       "      <td>941</td>\n",
       "      <td>36</td>\n",
       "      <td>weekday</td>\n",
       "    </tr>\n",
       "    <tr>\n",
       "      <th>3</th>\n",
       "      <td>January</td>\n",
       "      <td>2020</td>\n",
       "      <td>Saturday</td>\n",
       "      <td>42</td>\n",
       "      <td>1434</td>\n",
       "      <td>39</td>\n",
       "      <td>weekend</td>\n",
       "    </tr>\n",
       "    <tr>\n",
       "      <th>4</th>\n",
       "      <td>January</td>\n",
       "      <td>2020</td>\n",
       "      <td>Sunday</td>\n",
       "      <td>56</td>\n",
       "      <td>2118</td>\n",
       "      <td>52</td>\n",
       "      <td>weekend</td>\n",
       "    </tr>\n",
       "    <tr>\n",
       "      <th>...</th>\n",
       "      <td>...</td>\n",
       "      <td>...</td>\n",
       "      <td>...</td>\n",
       "      <td>...</td>\n",
       "      <td>...</td>\n",
       "      <td>...</td>\n",
       "      <td>...</td>\n",
       "    </tr>\n",
       "    <tr>\n",
       "      <th>121</th>\n",
       "      <td>May</td>\n",
       "      <td>2020</td>\n",
       "      <td>Friday</td>\n",
       "      <td>338160</td>\n",
       "      <td>5210817</td>\n",
       "      <td>2056643</td>\n",
       "      <td>weekday</td>\n",
       "    </tr>\n",
       "    <tr>\n",
       "      <th>122</th>\n",
       "      <td>May</td>\n",
       "      <td>2020</td>\n",
       "      <td>Saturday</td>\n",
       "      <td>342097</td>\n",
       "      <td>5310362</td>\n",
       "      <td>2112185</td>\n",
       "      <td>weekend</td>\n",
       "    </tr>\n",
       "    <tr>\n",
       "      <th>123</th>\n",
       "      <td>May</td>\n",
       "      <td>2020</td>\n",
       "      <td>Sunday</td>\n",
       "      <td>345059</td>\n",
       "      <td>5407613</td>\n",
       "      <td>2168563</td>\n",
       "      <td>weekend</td>\n",
       "    </tr>\n",
       "    <tr>\n",
       "      <th>124</th>\n",
       "      <td>May</td>\n",
       "      <td>2020</td>\n",
       "      <td>Monday</td>\n",
       "      <td>346232</td>\n",
       "      <td>5495061</td>\n",
       "      <td>2231738</td>\n",
       "      <td>weekday</td>\n",
       "    </tr>\n",
       "    <tr>\n",
       "      <th>125</th>\n",
       "      <td>May</td>\n",
       "      <td>2020</td>\n",
       "      <td>Tuesday</td>\n",
       "      <td>350453</td>\n",
       "      <td>5589626</td>\n",
       "      <td>2286956</td>\n",
       "      <td>weekday</td>\n",
       "    </tr>\n",
       "  </tbody>\n",
       "</table>\n",
       "<p>126 rows × 7 columns</p>\n",
       "</div>"
      ],
      "text/plain": [
       "       month  year        day  No of deaths  No of confirmed cases  \\\n",
       "0    January  2020  Wednesday            17                    555   \n",
       "1    January  2020   Thursday            18                    654   \n",
       "2    January  2020     Friday            26                    941   \n",
       "3    January  2020   Saturday            42                   1434   \n",
       "4    January  2020     Sunday            56                   2118   \n",
       "..       ...   ...        ...           ...                    ...   \n",
       "121      May  2020     Friday        338160                5210817   \n",
       "122      May  2020   Saturday        342097                5310362   \n",
       "123      May  2020     Sunday        345059                5407613   \n",
       "124      May  2020     Monday        346232                5495061   \n",
       "125      May  2020    Tuesday        350453                5589626   \n",
       "\n",
       "     No of recovered cases Type_of_day  \n",
       "0                       28     weekday  \n",
       "1                       30     weekday  \n",
       "2                       36     weekday  \n",
       "3                       39     weekend  \n",
       "4                       52     weekend  \n",
       "..                     ...         ...  \n",
       "121                2056643     weekday  \n",
       "122                2112185     weekend  \n",
       "123                2168563     weekend  \n",
       "124                2231738     weekday  \n",
       "125                2286956     weekday  \n",
       "\n",
       "[126 rows x 7 columns]"
      ]
     },
     "execution_count": 84,
     "metadata": {},
     "output_type": "execute_result"
    }
   ],
   "source": [
    "df_cov_dates['Type_of_day']=np.where((df_cov_dates['day']=='Sunday')|(df_cov_dates['day']==\"Saturday\"),'weekend','weekday')\n",
    "df_cov_dates"
   ]
  },
  {
   "cell_type": "code",
   "execution_count": 85,
   "metadata": {},
   "outputs": [
    {
     "data": {
      "image/png": "[encoded data removed]",
      "text/plain": [
       "<Figure size 432x288 with 1 Axes>"
      ]
     },
     "metadata": {
      "needs_background": "light"
     },
     "output_type": "display_data"
    }
   ],
   "source": [
    "sns.barplot(x='Type_of_day',y='No of confirmed cases',data=df_cov_dates)\n",
    "plt.show()\n",
    "#high number of cases on Sunday and Saturday"
   ]
  },
  {
   "cell_type": "code",
   "execution_count": 86,
   "metadata": {},
   "outputs": [
    {
     "data": {
      "image/png": "[encoded data removed]",
      "text/plain": [
       "<Figure size 432x288 with 1 Axes>"
      ]
     },
     "metadata": {
      "needs_background": "light"
     },
     "output_type": "display_data"
    }
   ],
   "source": [
    "sns.barplot(x='day',y='No of confirmed cases',data=df_cov_dates)\n",
    "plt.show()"
   ]
  },
  {
   "cell_type": "code",
   "execution_count": 87,
   "metadata": {},
   "outputs": [
    {
     "data": {
      "image/png": "[encoded data removed]",
      "text/plain": [
       "<Figure size 432x288 with 1 Axes>"
      ]
     },
     "metadata": {
      "needs_background": "light"
     },
     "output_type": "display_data"
    }
   ],
   "source": [
    "sns.barplot(x='month',y='No of confirmed cases',data=df_cov_dates)\n",
    "plt.show()"
   ]
  },
  {
   "cell_type": "code",
   "execution_count": 88,
   "metadata": {},
   "outputs": [
    {
     "data": {
      "image/png": "[encoded data removed]",
      "text/plain": [
       "<Figure size 432x288 with 1 Axes>"
      ]
     },
     "metadata": {
      "needs_background": "light"
     },
     "output_type": "display_data"
    }
   ],
   "source": [
    "sns.barplot(x='month',y='No of recovered cases',data=df_cov_dates)\n",
    "plt.show()"
   ]
  },
  {
   "cell_type": "code",
   "execution_count": 89,
   "metadata": {},
   "outputs": [
    {
     "data": {
      "image/png": "[encoded data removed]",
      "text/plain": [
       "<Figure size 432x288 with 1 Axes>"
      ]
     },
     "metadata": {
      "needs_background": "light"
     },
     "output_type": "display_data"
    }
   ],
   "source": [
    "sns.barplot(x='month',y='No of deaths',data=df_cov_dates)\n",
    "plt.show()"
   ]
  },
  {
   "cell_type": "code",
   "execution_count": null,
   "metadata": {},
   "outputs": [],
   "source": []
  },
  {
   "cell_type": "code",
   "execution_count": 90,
   "metadata": {},
   "outputs": [
    {
     "data": {
      "text/plain": [
       "Country\n",
       "Afghanistan     4669\n",
       "Albania         1629\n",
       "Algeria        23232\n",
       "Andorra         2219\n",
       "Angola           131\n",
       "Name: No of deaths, dtype: int64"
      ]
     },
     "execution_count": 90,
     "metadata": {},
     "output_type": "execute_result"
    }
   ],
   "source": [
    "coun1 = df_cov.groupby(\"Country\")[\"Deaths\"].sum().rename(\"No of deaths\")\n",
    "coun1.head()"
   ]
  },
  {
   "cell_type": "code",
   "execution_count": 91,
   "metadata": {},
   "outputs": [
    {
     "data": {
      "text/plain": [
       "Country\n",
       "Afghanistan    185236\n",
       "Albania         41253\n",
       "Algeria        240070\n",
       "Andorra         41573\n",
       "Angola           1892\n",
       "Name: No of confirmed cases, dtype: int64"
      ]
     },
     "execution_count": 91,
     "metadata": {},
     "output_type": "execute_result"
    }
   ],
   "source": [
    "coun2 = df_cov.groupby(\"Country\")[\"Confirmed\"].sum().rename(\"No of confirmed cases\")\n",
    "coun2.head()"
   ]
  },
  {
   "cell_type": "code",
   "execution_count": 92,
   "metadata": {},
   "outputs": [
    {
     "data": {
      "text/plain": [
       "Country\n",
       "Afghanistan     20845\n",
       "Albania         25688\n",
       "Algeria        107345\n",
       "Andorra         20751\n",
       "Angola            506\n",
       "Name: No of recovered, dtype: int64"
      ]
     },
     "execution_count": 92,
     "metadata": {},
     "output_type": "execute_result"
    }
   ],
   "source": [
    "coun3 = df_cov.groupby(\"Country\")[\"Recovered\"].sum().rename(\"No of recovered\")\n",
    "coun3.head()"
   ]
  },
  {
   "cell_type": "code",
   "execution_count": 93,
   "metadata": {},
   "outputs": [
    {
     "data": {
      "text/html": [
       "<div>\n",
       "<style scoped>\n",
       "    .dataframe tbody tr th:only-of-type {\n",
       "        vertical-align: middle;\n",
       "    }\n",
       "\n",
       "    .dataframe tbody tr th {\n",
       "        vertical-align: top;\n",
       "    }\n",
       "\n",
       "    .dataframe thead th {\n",
       "        text-align: right;\n",
       "    }\n",
       "</style>\n",
       "<table border=\"1\" class=\"dataframe\">\n",
       "  <thead>\n",
       "    <tr style=\"text-align: right;\">\n",
       "      <th></th>\n",
       "      <th>No of deaths</th>\n",
       "      <th>No of confirmed cases</th>\n",
       "      <th>No of recovered</th>\n",
       "    </tr>\n",
       "    <tr>\n",
       "      <th>Country</th>\n",
       "      <th></th>\n",
       "      <th></th>\n",
       "      <th></th>\n",
       "    </tr>\n",
       "  </thead>\n",
       "  <tbody>\n",
       "    <tr>\n",
       "      <th>Afghanistan</th>\n",
       "      <td>4669</td>\n",
       "      <td>185236</td>\n",
       "      <td>20845</td>\n",
       "    </tr>\n",
       "    <tr>\n",
       "      <th>Albania</th>\n",
       "      <td>1629</td>\n",
       "      <td>41253</td>\n",
       "      <td>25688</td>\n",
       "    </tr>\n",
       "    <tr>\n",
       "      <th>Algeria</th>\n",
       "      <td>23232</td>\n",
       "      <td>240070</td>\n",
       "      <td>107345</td>\n",
       "    </tr>\n",
       "    <tr>\n",
       "      <th>Andorra</th>\n",
       "      <td>2219</td>\n",
       "      <td>41573</td>\n",
       "      <td>20751</td>\n",
       "    </tr>\n",
       "    <tr>\n",
       "      <th>Angola</th>\n",
       "      <td>131</td>\n",
       "      <td>1892</td>\n",
       "      <td>506</td>\n",
       "    </tr>\n",
       "  </tbody>\n",
       "</table>\n",
       "</div>"
      ],
      "text/plain": [
       "             No of deaths  No of confirmed cases  No of recovered\n",
       "Country                                                          \n",
       "Afghanistan          4669                 185236            20845\n",
       "Albania              1629                  41253            25688\n",
       "Algeria             23232                 240070           107345\n",
       "Andorra              2219                  41573            20751\n",
       "Angola                131                   1892              506"
      ]
     },
     "execution_count": 93,
     "metadata": {},
     "output_type": "execute_result"
    }
   ],
   "source": [
    "df_covid=pd.concat([coun1,coun2,coun3],axis=1)\n",
    "df_covid.head()"
   ]
  },
  {
   "cell_type": "code",
   "execution_count": 94,
   "metadata": {},
   "outputs": [
    {
     "data": {
      "text/html": [
       "<div>\n",
       "<style scoped>\n",
       "    .dataframe tbody tr th:only-of-type {\n",
       "        vertical-align: middle;\n",
       "    }\n",
       "\n",
       "    .dataframe tbody tr th {\n",
       "        vertical-align: top;\n",
       "    }\n",
       "\n",
       "    .dataframe thead th {\n",
       "        text-align: right;\n",
       "    }\n",
       "</style>\n",
       "<table border=\"1\" class=\"dataframe\">\n",
       "  <thead>\n",
       "    <tr style=\"text-align: right;\">\n",
       "      <th></th>\n",
       "      <th>Country</th>\n",
       "      <th>No of deaths</th>\n",
       "      <th>No of confirmed cases</th>\n",
       "      <th>No of recovered</th>\n",
       "    </tr>\n",
       "  </thead>\n",
       "  <tbody>\n",
       "    <tr>\n",
       "      <th>0</th>\n",
       "      <td>Afghanistan</td>\n",
       "      <td>4669</td>\n",
       "      <td>185236</td>\n",
       "      <td>20845</td>\n",
       "    </tr>\n",
       "    <tr>\n",
       "      <th>1</th>\n",
       "      <td>Albania</td>\n",
       "      <td>1629</td>\n",
       "      <td>41253</td>\n",
       "      <td>25688</td>\n",
       "    </tr>\n",
       "    <tr>\n",
       "      <th>2</th>\n",
       "      <td>Algeria</td>\n",
       "      <td>23232</td>\n",
       "      <td>240070</td>\n",
       "      <td>107345</td>\n",
       "    </tr>\n",
       "    <tr>\n",
       "      <th>3</th>\n",
       "      <td>Andorra</td>\n",
       "      <td>2219</td>\n",
       "      <td>41573</td>\n",
       "      <td>20751</td>\n",
       "    </tr>\n",
       "    <tr>\n",
       "      <th>4</th>\n",
       "      <td>Angola</td>\n",
       "      <td>131</td>\n",
       "      <td>1892</td>\n",
       "      <td>506</td>\n",
       "    </tr>\n",
       "  </tbody>\n",
       "</table>\n",
       "</div>"
      ],
      "text/plain": [
       "       Country  No of deaths  No of confirmed cases  No of recovered\n",
       "0  Afghanistan          4669                 185236            20845\n",
       "1      Albania          1629                  41253            25688\n",
       "2      Algeria         23232                 240070           107345\n",
       "3      Andorra          2219                  41573            20751\n",
       "4       Angola           131                   1892              506"
      ]
     },
     "execution_count": 94,
     "metadata": {},
     "output_type": "execute_result"
    }
   ],
   "source": [
    "df_covid_new= df_covid.reset_index()\n",
    "df_covid_new.head()"
   ]
  },
  {
   "cell_type": "code",
   "execution_count": 95,
   "metadata": {},
   "outputs": [
    {
     "data": {
      "text/plain": [
       "Country                  object\n",
       "No of deaths              int64\n",
       "No of confirmed cases     int64\n",
       "No of recovered           int64\n",
       "dtype: object"
      ]
     },
     "execution_count": 95,
     "metadata": {},
     "output_type": "execute_result"
    }
   ],
   "source": [
    "df_covid_new.dtypes"
   ]
  },
  {
   "cell_type": "code",
   "execution_count": 96,
   "metadata": {},
   "outputs": [
    {
     "data": {
      "text/html": [
       "<div>\n",
       "<style scoped>\n",
       "    .dataframe tbody tr th:only-of-type {\n",
       "        vertical-align: middle;\n",
       "    }\n",
       "\n",
       "    .dataframe tbody tr th {\n",
       "        vertical-align: top;\n",
       "    }\n",
       "\n",
       "    .dataframe thead th {\n",
       "        text-align: right;\n",
       "    }\n",
       "</style>\n",
       "<table border=\"1\" class=\"dataframe\">\n",
       "  <thead>\n",
       "    <tr style=\"text-align: right;\">\n",
       "      <th></th>\n",
       "      <th>No of deaths</th>\n",
       "      <th>No of confirmed cases</th>\n",
       "      <th>No of recovered</th>\n",
       "    </tr>\n",
       "  </thead>\n",
       "  <tbody>\n",
       "    <tr>\n",
       "      <th>No of deaths</th>\n",
       "      <td>1.000000</td>\n",
       "      <td>0.926449</td>\n",
       "      <td>0.759967</td>\n",
       "    </tr>\n",
       "    <tr>\n",
       "      <th>No of confirmed cases</th>\n",
       "      <td>0.926449</td>\n",
       "      <td>1.000000</td>\n",
       "      <td>0.801388</td>\n",
       "    </tr>\n",
       "    <tr>\n",
       "      <th>No of recovered</th>\n",
       "      <td>0.759967</td>\n",
       "      <td>0.801388</td>\n",
       "      <td>1.000000</td>\n",
       "    </tr>\n",
       "  </tbody>\n",
       "</table>\n",
       "</div>"
      ],
      "text/plain": [
       "                       No of deaths  No of confirmed cases  No of recovered\n",
       "No of deaths               1.000000               0.926449         0.759967\n",
       "No of confirmed cases      0.926449               1.000000         0.801388\n",
       "No of recovered            0.759967               0.801388         1.000000"
      ]
     },
     "execution_count": 96,
     "metadata": {},
     "output_type": "execute_result"
    }
   ],
   "source": [
    "df_covid_new.corr()"
   ]
  },
  {
   "cell_type": "code",
   "execution_count": 97,
   "metadata": {},
   "outputs": [
    {
     "data": {
      "text/plain": [
       "<matplotlib.axes._subplots.AxesSubplot at 0x21413484a08>"
      ]
     },
     "execution_count": 97,
     "metadata": {},
     "output_type": "execute_result"
    },
    {
     "data": {
      "image/png": "[encoded data removed]",
      "text/plain": [
       "<Figure size 720x432 with 2 Axes>"
      ]
     },
     "metadata": {
      "needs_background": "light"
     },
     "output_type": "display_data"
    }
   ],
   "source": [
    "#showing the correlation using a heatmap from seaborn library\n",
    "plt.figure(figsize=(10,6))\n",
    "sns.heatmap(df_covid_new.corr(),cmap=\"Blues\",annot=True)"
   ]
  },
  {
   "cell_type": "code",
   "execution_count": 98,
   "metadata": {},
   "outputs": [
    {
     "data": {
      "text/plain": [
       "No of deaths              7.399787\n",
       "No of confirmed cases    10.303690\n",
       "No of recovered           5.019751\n",
       "dtype: float64"
      ]
     },
     "execution_count": 98,
     "metadata": {},
     "output_type": "execute_result"
    }
   ],
   "source": [
    "df_covid_new.skew()"
   ]
  },
  {
   "cell_type": "code",
   "execution_count": 99,
   "metadata": {},
   "outputs": [],
   "source": [
    "#removing skewness using log transform\n",
    "for col in df_covid.columns:\n",
    "    if df_covid_new.skew().loc[col]>0.55:\n",
    "        df_covid_new[col]=np.log1p(df_covid_new[col])"
   ]
  },
  {
   "cell_type": "code",
   "execution_count": 100,
   "metadata": {},
   "outputs": [
    {
     "data": {
      "text/plain": [
       "No of deaths            -0.269197\n",
       "No of confirmed cases    0.019723\n",
       "No of recovered         -0.233565\n",
       "dtype: float64"
      ]
     },
     "execution_count": 100,
     "metadata": {},
     "output_type": "execute_result"
    }
   ],
   "source": [
    "df_covid_new.skew()"
   ]
  },
  {
   "cell_type": "code",
   "execution_count": 101,
   "metadata": {},
   "outputs": [],
   "source": [
    "from sklearn.preprocessing import LabelEncoder\n",
    "le = LabelEncoder()\n",
    "df_covid_new[\"Country\"] = le.fit_transform(df_covid_new[\"Country\"])"
   ]
  },
  {
   "cell_type": "raw",
   "metadata": {},
   "source": [
    "df_covid_new.drop('Country',axis=1,inplace=True)"
   ]
  },
  {
   "cell_type": "code",
   "execution_count": 102,
   "metadata": {},
   "outputs": [
    {
     "data": {
      "text/plain": [
       "<seaborn.axisgrid.PairGrid at 0x21413576688>"
      ]
     },
     "execution_count": 102,
     "metadata": {},
     "output_type": "execute_result"
    },
    {
     "data": {
      "image/png": "[encoded data removed]",
      "text/plain": [
       "<Figure size 720x720 with 20 Axes>"
      ]
     },
     "metadata": {
      "needs_background": "light"
     },
     "output_type": "display_data"
    }
   ],
   "source": [
    "sns.pairplot(df_covid_new)"
   ]
  },
  {
   "cell_type": "code",
   "execution_count": 103,
   "metadata": {},
   "outputs": [
    {
     "data": {
      "image/png": "[encoded data removed]",
      "text/plain": [
       "<Figure size 432x288 with 1 Axes>"
      ]
     },
     "metadata": {
      "needs_background": "light"
     },
     "output_type": "display_data"
    }
   ],
   "source": [
    "sns.scatterplot(x='No of recovered',y='No of deaths',data=df_covid_new)\n",
    "plt.show()\n",
    "#shows positive correlation"
   ]
  },
  {
   "cell_type": "code",
   "execution_count": 104,
   "metadata": {},
   "outputs": [
    {
     "data": {
      "image/png": "[encoded data removed]",
      "text/plain": [
       "<Figure size 360x360 with 1 Axes>"
      ]
     },
     "metadata": {
      "needs_background": "light"
     },
     "output_type": "display_data"
    }
   ],
   "source": [
    "sns.catplot(x='Country',y='No of deaths',data=df_covid_new)\n",
    "plt.show()\n",
    "#shows positive correlation"
   ]
  },
  {
   "cell_type": "code",
   "execution_count": 106,
   "metadata": {},
   "outputs": [
    {
     "data": {
      "image/png": "[encoded data removed]",
      "text/plain": [
       "<Figure size 3600x432 with 1 Axes>"
      ]
     },
     "metadata": {
      "needs_background": "light"
     },
     "output_type": "display_data"
    }
   ],
   "source": [
    "plt.figure(figsize=(50,6))\n",
    "sns.barplot(x='Country',y='No of deaths',data=df_covid_new)\n",
    "plt.show()"
   ]
  },
  {
   "cell_type": "code",
   "execution_count": 107,
   "metadata": {},
   "outputs": [
    {
     "name": "stdout",
     "output_type": "stream",
     "text": [
      "[[1.72286214e+00 4.74738756e-01 4.86573345e-01 1.14280839e-01]\n",
      " [1.70443581e+00 1.69994621e-01 7.87470754e-02 1.88629056e-01]\n",
      " [1.68600948e+00 9.39251078e-01 5.84175035e-01 6.97566941e-01]\n",
      " [1.66758315e+00 2.59435643e-01 7.58386222e-02 1.12672356e-01]\n",
      " [1.64915681e+00 5.57727013e-01 1.23867580e+00 1.20839568e+00]\n",
      " [1.63073048e+00 5.38630772e-01 1.37182437e+00 1.15323243e+00]\n",
      " [1.61230415e+00 7.62283412e-01 6.45490164e-01 5.99606450e-01]\n",
      " [1.59387781e+00 2.23814879e-01 4.05090463e-01 4.86483629e-01]\n",
      " [1.57545148e+00 4.68091450e-01 7.82026607e-01 1.00756358e+00]\n",
      " [1.55702515e+00 9.97870188e-01 1.08954845e+00 1.31876728e+00]\n",
      " [1.53859881e+00 1.26369475e-01 3.03144207e-01 5.25295533e-01]\n",
      " [1.52017248e+00 1.59674017e-01 9.47412732e-01 8.86096966e-01]\n",
      " [1.50174615e+00 1.72140660e-01 5.42180393e-01 6.64180570e-01]\n",
      " [1.48331981e+00 6.95303649e-01 9.21947454e-01 6.60450363e-01]\n",
      " [1.46489348e+00 3.15250010e-01 9.07424312e-01 7.04122849e-01]\n",
      " [1.44646715e+00 4.96698983e-01 1.05362419e+00 9.75499676e-01]\n",
      " [1.42804081e+00 1.73485889e+00 1.46325924e+00 1.30249051e+00]\n",
      " [1.40961448e+00 6.41017122e-01 1.51938023e+00 1.23764433e+00]\n",
      " [1.39118815e+00 6.88586367e-01 7.62189174e-01 6.78672852e-01]\n",
      " [1.37276182e+00 1.97140253e+00 1.66555838e+00 1.52208896e+00]\n",
      " [1.35433548e+00 4.87770175e-01 2.85914690e-01 1.15247176e-01]\n",
      " [1.33590915e+00 4.51378634e-01 2.25857166e-01 3.61723736e-01]\n",
      " [1.31748282e+00 7.95817495e-01 1.43858673e+00 1.31008103e+00]\n",
      " [1.29905648e+00 1.78960481e+00 1.83728444e+00 1.84092220e+00]\n",
      " [1.28063015e+00 7.81216685e-01 6.34387132e-01 2.89262664e-01]\n",
      " [1.26220382e+00 4.13982980e-01 1.83310469e-01 5.64781855e-02]\n",
      " [1.24377748e+00 2.69433391e-01 1.20607761e-01 1.60082810e-01]\n",
      " [1.22535115e+00 3.52692302e-01 7.37031848e-01 6.65910678e-01]\n",
      " [1.20692482e+00 8.69292380e-01 1.55220810e+00 1.34130341e+00]\n",
      " [1.18849848e+00 6.32374051e-01 6.61665004e-01 7.31350078e-01]\n",
      " [1.17007215e+00 1.97140253e+00 6.94994694e-01 3.35606317e-01]\n",
      " [1.15164582e+00 4.34426537e-01 3.00378489e-01 3.99120372e-01]\n",
      " [1.13321949e+00 1.53170328e+00 1.52172265e+00 1.55965729e+00]\n",
      " [1.11479315e+00 1.50543586e+00 7.19409384e-01 1.22787239e+00]\n",
      " [1.09636682e+00 3.73791218e-02 5.71304228e-01 5.72111601e-01]\n",
      " [1.07794049e+00 8.01402506e-01 1.22651993e+00 1.28492785e+00]\n",
      " [1.05951415e+00 1.75187415e+00 1.94288094e+00 2.17283547e+00]\n",
      " [1.04108782e+00 8.64946167e-01 8.33901303e-01 6.82522797e-01]\n",
      " [1.02266149e+00 1.07647968e+00 1.64394058e+00 1.68198425e+00]\n",
      " [1.00423515e+00 1.78581239e-01 5.21409543e-01 6.66216567e-01]\n",
      " [9.85808821e-01 2.26603700e-01 5.93555569e-02 3.34038464e-01]\n",
      " [9.67382487e-01 2.69672396e-01 6.80607591e-02 4.02686087e-02]\n",
      " [9.48956154e-01 2.15943045e-02 1.28125813e-01 2.46053307e-01]\n",
      " [9.30529821e-01 3.86656173e-01 3.00458459e-01 5.16681374e-01]\n",
      " [9.12103488e-01 3.33584304e-01 1.38011301e-01 3.50790142e-01]\n",
      " [8.93677155e-01 2.99766909e-02 4.24108029e-02 1.80473164e-02]\n",
      " [8.75250822e-01 7.50783012e-01 8.00968125e-01 8.53308884e-01]\n",
      " [8.56824489e-01 9.41683315e-01 8.72343932e-01 1.10277627e+00]\n",
      " [8.38398156e-01 1.94230432e-02 1.30446336e-01 3.87205177e-01]\n",
      " [8.19971823e-01 4.64731369e-01 3.35181420e-02 2.21340248e-01]\n",
      " [8.01545490e-01 1.97140253e+00 1.49582176e+00 1.15564533e+00]\n",
      " [7.83119156e-01 8.36784282e-01 7.91067619e-01 7.52474945e-01]\n",
      " [7.64692823e-01 1.27174536e+00 1.18166348e+00 7.91109157e-01]\n",
      " [7.46266490e-01 9.16685945e-01 7.60545557e-01 6.61732338e-01]\n",
      " [7.27840157e-01 4.33946097e-02 1.37853159e-01 9.86240597e-02]\n",
      " [7.09413824e-01 4.86187210e-01 3.73841551e-01 8.75747809e-01]\n",
      " [6.90987491e-01 1.97140253e+00 1.19836181e+00 9.43570683e-01]\n",
      " [6.72561158e-01 3.00918558e-01 2.31841433e-01 1.96087081e-01]\n",
      " [6.54134825e-01 7.71876476e-01 8.26545454e-01 7.58248588e-01]\n",
      " [6.35708492e-01 4.47741241e-01 5.84254837e-01 5.29019721e-01]\n",
      " [6.17282159e-01 1.97140253e+00 1.48648889e+00 1.23010375e+00]\n",
      " [5.98855826e-01 6.99241603e-01 6.27856700e-01 8.14055444e-01]\n",
      " [5.80429492e-01 2.08358438e+00 1.93753659e+00 1.82066410e+00]\n",
      " [5.62003159e-01 3.19072130e-01 1.81423605e-01 2.99707369e-01]\n",
      " [5.43576826e-01 7.58407937e-01 1.55175102e+00 1.30544078e+00]\n",
      " [5.25150493e-01 2.48564327e-01 2.21941935e-01 7.24108405e-02]\n",
      " [5.06724160e-01 1.69829104e+00 1.95021890e+00 2.13557549e+00]\n",
      " [4.88297827e-01 1.06260125e-02 4.11390740e-01 2.43675610e-01]\n",
      " [4.69871494e-01 6.12399158e-01 4.06048042e-01 4.04826003e-01]\n",
      " [4.51445161e-01 1.97140253e+00 1.46375977e+00 1.22713169e+00]\n",
      " [4.33018828e-01 5.40212945e-02 7.09871151e-03 4.27570910e-01]\n",
      " [4.14592495e-01 2.04581386e-01 1.65837499e-01 2.28447014e-01]\n",
      " [3.96166162e-01 6.38107335e-01 3.10179693e-01 1.01417537e+00]\n",
      " [3.77739828e-01 1.94399365e-01 9.06353688e-01 8.68921708e-01]\n",
      " [3.59313495e-01 1.39329583e-01 5.51506101e-01 1.19327788e+00]\n",
      " [3.40887162e-01 1.97140253e+00 1.66309417e+00 1.78972289e+00]\n",
      " [3.22460829e-01 4.60832963e-01 1.51206989e-01 2.38470758e-01]\n",
      " [3.04034496e-01 8.24656814e-01 3.80899497e-01 3.21508386e-01]\n",
      " [2.85608163e-01 1.59674017e-01 2.84474811e-01 5.85903125e-01]\n",
      " [2.67181830e-01 1.31128749e+00 1.49189162e+00 1.45573267e+00]\n",
      " [2.48755497e-01 1.11843590e+00 9.27241783e-01 7.07841034e-01]\n",
      " [2.30329164e-01 1.72697617e+00 1.78153469e+00 1.98283071e+00]\n",
      " [2.11902831e-01 5.43944139e-01 3.59304762e-01 5.86727969e-01]\n",
      " [1.93476497e-01 1.19094614e+00 1.11950714e+00 1.29294170e+00]\n",
      " [1.75050164e-01 7.17496536e-01 1.04788713e+00 1.18036640e+00]\n",
      " [1.56623831e-01 2.15876119e+00 2.05330922e+00 2.01546513e+00]\n",
      " [1.38197498e-01 2.41856968e-01 3.78648132e-01 5.06147906e-01]\n",
      " [1.19771165e-01 9.53179200e-01 9.84491211e-01 1.02287873e+00]\n",
      " [1.01344832e-01 2.03288878e-01 2.06409728e-01 5.59556276e-02]\n",
      " [8.29184989e-02 1.01815411e-01 5.17061125e-01 5.84530195e-01]\n",
      " [6.44921658e-02 1.08041917e-01 2.15025007e-01 1.91481818e-01]\n",
      " [4.60658327e-02 8.30883714e-01 1.06373065e+00 1.27020399e+00]\n",
      " [2.76394996e-02 4.40414608e-02 1.12487084e-01 8.77217530e-02]\n",
      " [9.21316655e-03 2.99786286e-01 7.52763060e-01 7.01716824e-01]\n",
      " [9.21316655e-03 1.82755667e-01 7.15355521e-02 1.69840245e-01]\n",
      " [2.76394996e-02 1.97140253e+00 1.46123717e+00 1.30177165e+00]\n",
      " [4.60658327e-02 8.31172669e-02 1.77144305e-02 5.82411712e-02]\n",
      " [6.44921658e-02 1.24920313e-01 2.62834039e-02 9.15220777e-02]\n",
      " [8.29184989e-02 1.97140253e+00 2.95139537e+00 3.42513532e+00]\n",
      " [1.01344832e-01 5.28261073e-02 7.14487017e-01 5.83448919e-01]\n",
      " [1.19771165e-01 5.92651394e-01 1.07219668e+00 9.42904199e-01]\n",
      " [1.38197498e-01 8.16506393e-01 8.58463422e-01 5.99445815e-01]\n",
      " [1.56623831e-01 2.69055179e-01 1.53074598e-01 2.39689141e-01]\n",
      " [1.75050164e-01 4.81721417e-01 5.48192090e-01 7.58881273e-01]\n",
      " [1.93476497e-01 6.02722718e-01 1.73012806e+00 3.42513532e+00]\n",
      " [2.11902831e-01 1.11892452e+00 5.86181986e-01 4.75318657e-01]\n",
      " [2.30329164e-01 5.51220641e-01 1.19321642e+00 1.14550158e+00]\n",
      " [2.48755497e-01 5.23466696e-01 7.25500666e-01 9.47296653e-01]\n",
      " [2.67181830e-01 6.81773785e-01 2.31718223e-01 7.01072241e-01]\n",
      " [2.85608163e-01 1.58027727e-01 2.46199062e-01 7.92556011e-02]\n",
      " [3.04034496e-01 4.20556317e-01 2.43263634e-01 8.39837451e-03]\n",
      " [3.22460829e-01 5.92651394e-01 1.17633128e+00 1.38578124e+00]\n",
      " [3.40887162e-01 1.48788473e-01 3.82779477e-01 7.28438290e-02]\n",
      " [3.59313495e-01 1.45560326e+00 1.24131590e+00 1.43347741e+00]\n",
      " [3.77739828e-01 5.71888841e-01 5.32690471e-01 5.53926876e-01]\n",
      " [3.96166162e-01 4.71165442e-01 8.34342725e-01 5.98432570e-01]\n",
      " [4.14592495e-01 1.97140253e+00 1.04130225e+00 1.10390933e+00]\n",
      " [4.33018828e-01 2.69672396e-01 4.05685959e-01 1.62724788e-01]\n",
      " [4.51445161e-01 6.55167869e-01 5.84720268e-01 6.37350190e-01]\n",
      " [4.69871494e-01 1.65333079e+00 9.29152631e-01 9.26953474e-01]\n",
      " [4.88297827e-01 1.97140253e+00 1.47513909e+00 1.24690912e+00]\n",
      " [5.06724160e-01 9.86683195e-01 6.83311139e-01 8.66496013e-01]\n",
      " [5.25150493e-01 1.62035244e+00 1.39603255e+00 9.14916392e-02]\n",
      " [5.43576826e-01 2.96225363e-02 1.77106015e-01 4.73332487e-01]\n",
      " [5.62003159e-01 3.03165502e-01 1.02834537e+00 7.19603070e-01]\n",
      " [5.80429492e-01 1.98717067e-01 1.15543284e-01 1.23782007e-01]\n",
      " [5.98855826e-01 4.78251137e-01 4.17670274e-01 3.10485748e-01]\n",
      " [6.17282159e-01 4.19437233e-01 1.53158374e-01 3.20677653e-01]\n",
      " [6.35708492e-01 7.05483295e-01 8.31914266e-01 3.49126038e-01]\n",
      " [6.54134825e-01 6.25752228e-02 4.17196573e-01 3.48463516e-01]\n",
      " [6.72561158e-01 9.60496776e-01 1.18596571e+00 1.08137369e+00]\n",
      " [6.90987491e-01 6.91194000e-01 7.30244368e-01 7.28699372e-01]\n",
      " [7.09413824e-01 1.97140253e+00 1.86344064e+00 1.56720015e+00]\n",
      " [7.27840157e-01 1.69259826e-01 2.94416689e-01 3.01734682e-01]\n",
      " [7.46266490e-01 1.26493561e+00 1.46989571e+00 1.44641102e+00]\n",
      " [7.64692823e-01 1.01794075e+00 8.44244312e-01 5.57291342e-01]\n",
      " [7.83119156e-01 1.02969235e+00 9.89316136e-01 9.22041186e-01]\n",
      " [8.01545490e-01 1.15805753e+00 1.22343571e+00 8.33714574e-01]\n",
      " [8.19971823e-01 1.07999437e-01 1.08444850e+00 7.71522361e-01]\n",
      " [8.38398156e-01 1.08424793e+00 9.59439694e-01 1.01843025e+00]\n",
      " [8.56824489e-01 1.26169279e+00 1.87760103e+00 1.65607530e+00]\n",
      " [8.75250822e-01 1.97140253e+00 5.31025034e-01 3.30625228e-01]\n",
      " [8.93677155e-01 1.97140253e+00 1.56240693e+00 1.32437620e+00]\n",
      " [9.12103488e-01 1.97140253e+00 1.48841425e+00 1.09563217e+00]\n",
      " [9.30529821e-01 1.97140253e+00 1.56571083e+00 1.31101638e+00]\n",
      " [9.48956154e-01 2.91850546e-01 1.74217785e-01 3.26124576e-01]\n",
      " [9.67382487e-01 5.13097097e-01 8.42929796e-01 1.57497973e+00]\n",
      " [9.85808821e-01 6.90870923e-01 1.28020096e+00 1.30389336e+00]\n",
      " [1.00423515e+00 7.88906024e-02 1.12200192e-01 2.26197726e-01]\n",
      " [1.02266149e+00 6.59228266e-01 7.98351809e-01 7.11443286e-01]\n",
      " [1.04108782e+00 1.97140253e+00 1.60097042e+00 1.36996077e+00]\n",
      " [1.05951415e+00 8.69747516e-02 5.50801939e-01 5.45308794e-01]\n",
      " [1.07794049e+00 1.91944688e-02 1.06346260e+00 9.23695982e-01]\n",
      " [1.09636682e+00 1.58152535e-02 1.19523231e-01 2.64568567e-01]\n",
      " [1.11479315e+00 4.62777807e-01 1.84957825e-01 1.20357838e-01]\n",
      " [1.13321949e+00 1.58027727e-01 1.21352909e-01 5.00244297e-01]\n",
      " [1.15164582e+00 6.33786177e-01 8.20142049e-01 8.85822884e-01]\n",
      " [1.17007215e+00 7.54054150e-01 7.32082144e-01 1.89330987e+00]\n",
      " [1.18849848e+00 2.10489065e+00 2.05313022e+00 2.11562908e+00]\n",
      " [1.20692482e+00 2.16481199e-01 1.43337409e-01 4.44586855e-02]\n",
      " [1.22535115e+00 3.11459875e-01 2.94060057e-02 3.36938378e-01]\n",
      " [1.24377748e+00 8.11193925e-01 1.63642953e+00 1.32147086e+00]\n",
      " [1.26220382e+00 1.43618757e+00 1.17452054e+00 7.66365037e-01]\n",
      " [1.28063015e+00 1.32083311e+00 1.32381193e+00 1.54011182e+00]\n",
      " [1.29905648e+00 5.00227361e-01 1.14189849e+00 9.51326315e-01]\n",
      " [1.31748282e+00 2.31722686e-01 2.26629365e-01 3.28869208e-03]\n",
      " [1.33590915e+00 8.26918129e-02 1.61125974e-01 2.26262556e-01]\n",
      " [1.35433548e+00 8.14191894e-02 3.95770351e-01 3.67514574e-01]\n",
      " [1.37276182e+00 3.16107882e-01 4.54276779e-01 7.49392856e-01]\n",
      " [1.39118815e+00 1.97140253e+00 1.47888446e+00 1.13966699e+00]\n",
      " [1.40961448e+00 2.22619692e-01 6.55786860e-01 4.87609627e-01]\n",
      " [1.42804081e+00 2.00082628e-01 7.41675643e-01 5.27358565e-01]\n",
      " [1.44646715e+00 2.54038635e-01 1.12881118e-02 1.24014655e-01]\n",
      " [1.46489348e+00 1.48400427e+00 1.78734435e+00 1.87024854e+00]\n",
      " [1.48331981e+00 2.36722104e+00 2.64372205e+00 2.25048777e+00]\n",
      " [1.50174615e+00 1.97140253e+00 7.92780642e-01 6.87496658e-01]\n",
      " [1.52017248e+00 8.21773018e-01 9.09723034e-01 7.33763585e-01]\n",
      " [1.53859881e+00 5.63022723e-01 1.00493060e+00 9.75954913e-01]\n",
      " [1.55702515e+00 2.11083222e+00 1.95453308e+00 3.78771713e-01]\n",
      " [1.57545148e+00 4.30236662e-02 1.21628885e-01 1.30272000e-01]\n",
      " [1.59387781e+00 2.05229810e-01 2.70241562e-01 5.01140628e-01]\n",
      " [1.61230415e+00 1.50395441e-01 2.88588032e-01 1.85208670e-01]\n",
      " [1.63073048e+00 1.97140253e+00 3.79884812e-01 7.30749717e-02]\n",
      " [1.64915681e+00 6.00171853e-01 3.51798674e-01 1.92693194e-01]\n",
      " [1.66758315e+00 1.77072161e+00 1.92216165e+00 1.56337321e+00]\n",
      " [1.68600948e+00 1.95652706e-01 1.10543649e+00 1.81197401e+00]\n",
      " [1.70443581e+00 4.15144545e-01 4.52447484e-01 3.74321833e-01]\n",
      " [1.72286214e+00 4.37426411e-01 1.26588286e+00 1.31668072e+00]]\n",
      "(array([ 98, 104], dtype=int64), array([3, 3], dtype=int64))\n"
     ]
    }
   ],
   "source": [
    "#removing outliers using zscore\n",
    "from scipy.stats import zscore\n",
    "zscore=np.abs(zscore(df_covid_new))\n",
    "print(zscore)\n",
    "print(np.where(zscore>3))\n",
    "df_covid_final=df_covid_new[(zscore<3).all(axis=1)]"
   ]
  },
  {
   "cell_type": "code",
   "execution_count": 108,
   "metadata": {},
   "outputs": [
    {
     "name": "stdout",
     "output_type": "stream",
     "text": [
      "(188, 4)\n",
      "(186, 4)\n"
     ]
    }
   ],
   "source": [
    "print(df_covid_new.shape)\n",
    "print(df_covid_final.shape)"
   ]
  },
  {
   "cell_type": "code",
   "execution_count": 110,
   "metadata": {},
   "outputs": [],
   "source": [
    "#separating into input and output variables\n",
    "df_x=df_covid_final.drop(columns=['No of deaths'])\n",
    "y=pd.DataFrame(df_covid_final['No of deaths'])"
   ]
  },
  {
   "cell_type": "code",
   "execution_count": 111,
   "metadata": {},
   "outputs": [
    {
     "data": {
      "text/plain": [
       "(186, 3)"
      ]
     },
     "execution_count": 111,
     "metadata": {},
     "output_type": "execute_result"
    }
   ],
   "source": [
    "#checking the shape\n",
    "df_x.shape"
   ]
  },
  {
   "cell_type": "code",
   "execution_count": 112,
   "metadata": {},
   "outputs": [
    {
     "data": {
      "text/plain": [
       "(186, 1)"
      ]
     },
     "execution_count": 112,
     "metadata": {},
     "output_type": "execute_result"
    }
   ],
   "source": [
    "y.shape"
   ]
  },
  {
   "cell_type": "code",
   "execution_count": 113,
   "metadata": {},
   "outputs": [],
   "source": [
    "#scaling the input variable\n",
    "from sklearn.preprocessing import StandardScaler\n",
    "sc=StandardScaler()\n",
    "x=sc.fit_transform(df_x)\n",
    "x=pd.DataFrame(x,columns=df_x.columns)"
   ]
  },
  {
   "cell_type": "code",
   "execution_count": 114,
   "metadata": {},
   "outputs": [
    {
     "data": {
      "text/plain": [
       "Country                  0.004429\n",
       "No of confirmed cases    0.125003\n",
       "No of recovered          0.121741\n",
       "dtype: float64"
      ]
     },
     "execution_count": 114,
     "metadata": {},
     "output_type": "execute_result"
    }
   ],
   "source": [
    "x.skew()"
   ]
  },
  {
   "cell_type": "code",
   "execution_count": 115,
   "metadata": {},
   "outputs": [],
   "source": [
    "from sklearn.metrics import mean_absolute_error,mean_squared_error,r2_score\n",
    "from sklearn.model_selection import train_test_split\n",
    "from sklearn.model_selection import cross_val_score\n",
    "def maxr2_score(regr,x,y):\n",
    "    max_r_score=0\n",
    "    for r_state in range(42,100):\n",
    "        x_train,x_test,y_train,y_test=train_test_split(x,y,random_state=r_state,test_size=0.20)\n",
    "        regr.fit(x_train,y_train)\n",
    "        y_pred=regr.predict(x_test)\n",
    "        r2_scr=r2_score(y_test,y_pred)\n",
    "        cvs=cross_val_score(regr,x,y,cv=5,scoring='r2').mean()\n",
    "        std=cross_val_score(regr,x,y,cv=5,scoring='r2').std()\n",
    "        print(\"r2 score corresponding to\",r_state,\"is\",r2_scr)\n",
    "        if r2_scr>max_r_score:\n",
    "            max_r_score=r2_scr\n",
    "            final_r_state=r_state\n",
    "    print(\"max r2 score corresponding to\",final_r_state,\"is\",max_r_score)\n",
    "    print(\"Mean r2 score cross_val:\",cross_val_score(regr,x,y,cv=5,scoring='r2').mean())\n",
    "    print('Standard Deviation in r2 score cross_val:',cross_val_score(regr,x,y,cv=5,scoring='r2').std())\n",
    "    return final_r_state"
   ]
  },
  {
   "cell_type": "code",
   "execution_count": 116,
   "metadata": {},
   "outputs": [
    {
     "name": "stdout",
     "output_type": "stream",
     "text": [
      "r2 score corresponding to 42 is 0.8256826224300324\n",
      "r2 score corresponding to 43 is 0.8539026431756062\n",
      "r2 score corresponding to 44 is 0.7709828768539717\n",
      "r2 score corresponding to 45 is 0.6937286541006856\n",
      "r2 score corresponding to 46 is 0.7594735697319995\n",
      "r2 score corresponding to 47 is 0.833097584581865\n",
      "r2 score corresponding to 48 is 0.7952596351978771\n",
      "r2 score corresponding to 49 is 0.8745431330528988\n",
      "r2 score corresponding to 50 is 0.8368643291268356\n",
      "r2 score corresponding to 51 is 0.8861557786149509\n",
      "r2 score corresponding to 52 is 0.8374598544160461\n",
      "r2 score corresponding to 53 is 0.8468587185722529\n",
      "r2 score corresponding to 54 is 0.7652703939313055\n",
      "r2 score corresponding to 55 is 0.7738642991976614\n",
      "r2 score corresponding to 56 is 0.7613385198169509\n",
      "r2 score corresponding to 57 is 0.6778615314111789\n",
      "r2 score corresponding to 58 is 0.8523463789200922\n",
      "r2 score corresponding to 59 is 0.8216071688850576\n",
      "r2 score corresponding to 60 is 0.8602676004001062\n",
      "r2 score corresponding to 61 is 0.7390133091417438\n",
      "r2 score corresponding to 62 is 0.8004012589392129\n",
      "r2 score corresponding to 63 is 0.8380821803839809\n",
      "r2 score corresponding to 64 is 0.7602341064295663\n",
      "r2 score corresponding to 65 is 0.8232631724368588\n",
      "r2 score corresponding to 66 is 0.8499875727853354\n",
      "r2 score corresponding to 67 is 0.8475996766612165\n",
      "r2 score corresponding to 68 is 0.7945616234638211\n",
      "r2 score corresponding to 69 is 0.9296517343098655\n",
      "r2 score corresponding to 70 is 0.6271292609651531\n",
      "r2 score corresponding to 71 is 0.6760141916826494\n",
      "r2 score corresponding to 72 is 0.8175979294197954\n",
      "r2 score corresponding to 73 is 0.8295264460846958\n",
      "r2 score corresponding to 74 is 0.5873185682469502\n",
      "r2 score corresponding to 75 is 0.8921124534062103\n",
      "r2 score corresponding to 76 is 0.7717059643334306\n",
      "r2 score corresponding to 77 is 0.7849567908807187\n",
      "r2 score corresponding to 78 is 0.751510868068696\n",
      "r2 score corresponding to 79 is 0.8697704818534138\n",
      "r2 score corresponding to 80 is 0.8328505252340845\n",
      "r2 score corresponding to 81 is 0.8731476105091673\n",
      "r2 score corresponding to 82 is 0.8440516046561571\n",
      "r2 score corresponding to 83 is 0.7778293652322842\n",
      "r2 score corresponding to 84 is 0.8168865421340425\n",
      "r2 score corresponding to 85 is 0.8624121345248519\n",
      "r2 score corresponding to 86 is 0.6900253400886136\n",
      "r2 score corresponding to 87 is 0.627167687008273\n",
      "r2 score corresponding to 88 is 0.7652922007077883\n",
      "r2 score corresponding to 89 is 0.8137056772068864\n",
      "r2 score corresponding to 90 is 0.7972688987049092\n",
      "r2 score corresponding to 91 is 0.6958537779400985\n",
      "r2 score corresponding to 92 is 0.7872685109376751\n",
      "r2 score corresponding to 93 is 0.8121952775257321\n",
      "r2 score corresponding to 94 is 0.8856768084307418\n",
      "r2 score corresponding to 95 is 0.8632192198566864\n",
      "r2 score corresponding to 96 is 0.7626343832445928\n",
      "r2 score corresponding to 97 is 0.8113783357622716\n",
      "r2 score corresponding to 98 is 0.8662803011810997\n",
      "r2 score corresponding to 99 is 0.9150380786192476\n",
      "max r2 score corresponding to 69 is 0.9296517343098655\n",
      "Mean r2 score cross_val: 0.8031125147804158\n",
      "Standard Deviation in r2 score cross_val: 0.055065305160708435\n"
     ]
    }
   ],
   "source": [
    "#Using LinearRegression and checking maxr2 score corresponding to different random states\n",
    "from sklearn.linear_model import LinearRegression\n",
    "lreg=LinearRegression()\n",
    "r_state=maxr2_score(lreg,x,y)"
   ]
  },
  {
   "cell_type": "code",
   "execution_count": 117,
   "metadata": {},
   "outputs": [
    {
     "data": {
      "text/plain": [
       "{'n_neighbors': 7}"
      ]
     },
     "execution_count": 117,
     "metadata": {},
     "output_type": "execute_result"
    }
   ],
   "source": [
    "from sklearn.model_selection import GridSearchCV\n",
    "from sklearn.neighbors import KNeighborsRegressor\n",
    "neighbors={'n_neighbors':range(1,30)}\n",
    "knr=KNeighborsRegressor()\n",
    "gknr=GridSearchCV(knr,neighbors,cv=10)\n",
    "gknr.fit(x,y)\n",
    "gknr.best_params_"
   ]
  },
  {
   "cell_type": "code",
   "execution_count": 118,
   "metadata": {},
   "outputs": [
    {
     "name": "stdout",
     "output_type": "stream",
     "text": [
      "r2 score corresponding to 42 is 0.7395578681027462\n",
      "r2 score corresponding to 43 is 0.780427481495449\n",
      "r2 score corresponding to 44 is 0.6446520064316708\n",
      "r2 score corresponding to 45 is 0.5492339187250923\n",
      "r2 score corresponding to 46 is 0.6841666198105267\n",
      "r2 score corresponding to 47 is 0.7344010474675505\n",
      "r2 score corresponding to 48 is 0.7260462331152359\n",
      "r2 score corresponding to 49 is 0.8620875759116575\n",
      "r2 score corresponding to 50 is 0.7557212018883848\n",
      "r2 score corresponding to 51 is 0.7949795091645617\n",
      "r2 score corresponding to 52 is 0.771242613124303\n",
      "r2 score corresponding to 53 is 0.721129672368534\n",
      "r2 score corresponding to 54 is 0.6649816655386365\n",
      "r2 score corresponding to 55 is 0.7599300090032817\n",
      "r2 score corresponding to 56 is 0.6950133557616814\n",
      "r2 score corresponding to 57 is 0.6195210659454709\n",
      "r2 score corresponding to 58 is 0.794731421768037\n",
      "r2 score corresponding to 59 is 0.6641471882167076\n",
      "r2 score corresponding to 60 is 0.838448983302672\n",
      "r2 score corresponding to 61 is 0.6048915839342642\n",
      "r2 score corresponding to 62 is 0.7310597380623322\n",
      "r2 score corresponding to 63 is 0.7346978406668422\n",
      "r2 score corresponding to 64 is 0.6921198663836274\n",
      "r2 score corresponding to 65 is 0.7879913799807645\n",
      "r2 score corresponding to 66 is 0.8396566515595238\n",
      "r2 score corresponding to 67 is 0.7598387497035837\n",
      "r2 score corresponding to 68 is 0.7666999191101123\n",
      "r2 score corresponding to 69 is 0.8718821030641851\n",
      "r2 score corresponding to 70 is 0.6162272591285222\n",
      "r2 score corresponding to 71 is 0.5958411760664379\n",
      "r2 score corresponding to 72 is 0.7660331818417936\n",
      "r2 score corresponding to 73 is 0.791576068998995\n",
      "r2 score corresponding to 74 is 0.49708632579170864\n",
      "r2 score corresponding to 75 is 0.8761525141627395\n",
      "r2 score corresponding to 76 is 0.7512875726127113\n",
      "r2 score corresponding to 77 is 0.746234002261263\n",
      "r2 score corresponding to 78 is 0.7250827939945415\n",
      "r2 score corresponding to 79 is 0.7250301781303278\n",
      "r2 score corresponding to 80 is 0.7749396266894404\n",
      "r2 score corresponding to 81 is 0.7603198186670431\n",
      "r2 score corresponding to 82 is 0.830900710750319\n",
      "r2 score corresponding to 83 is 0.7415373443577313\n",
      "r2 score corresponding to 84 is 0.7812270374449641\n",
      "r2 score corresponding to 85 is 0.8639749255552267\n",
      "r2 score corresponding to 86 is 0.5720162990372551\n",
      "r2 score corresponding to 87 is 0.5548131390624649\n",
      "r2 score corresponding to 88 is 0.6818980078077872\n",
      "r2 score corresponding to 89 is 0.7217955521564361\n",
      "r2 score corresponding to 90 is 0.7171263581517414\n",
      "r2 score corresponding to 91 is 0.6006113946917508\n",
      "r2 score corresponding to 92 is 0.7164563678326769\n",
      "r2 score corresponding to 93 is 0.7835805655038832\n",
      "r2 score corresponding to 94 is 0.7672413110122617\n",
      "r2 score corresponding to 95 is 0.7772850591317644\n",
      "r2 score corresponding to 96 is 0.7373494104985081\n",
      "r2 score corresponding to 97 is 0.7369103913861451\n",
      "r2 score corresponding to 98 is 0.7943639797834452\n",
      "r2 score corresponding to 99 is 0.8709292462795617\n",
      "max r2 score corresponding to 75 is 0.8761525141627395\n",
      "Mean r2 score cross_val: 0.6981162778617331\n",
      "Standard Deviation in r2 score cross_val: 0.09057024457597772\n"
     ]
    }
   ],
   "source": [
    "#using KNN regression and checking max r2 score corresponding to different random states\n",
    "knr=KNeighborsRegressor(n_neighbors=7)\n",
    "r_state=maxr2_score(knr,x,y)"
   ]
  },
  {
   "cell_type": "code",
   "execution_count": 119,
   "metadata": {},
   "outputs": [
    {
     "data": {
      "text/plain": [
       "{'alpha': 0.01}"
      ]
     },
     "execution_count": 119,
     "metadata": {},
     "output_type": "execute_result"
    }
   ],
   "source": [
    "#Checking lasso Regression and finding best value for alpha\n",
    "from sklearn.linear_model import Lasso\n",
    "lsreg=Lasso()\n",
    "parameters={\"alpha\":[0.001,0.01,0.1,1]}\n",
    "clf=GridSearchCV(lsreg,parameters,cv=10)\n",
    "clf.fit(x,y)\n",
    "clf.best_params_"
   ]
  },
  {
   "cell_type": "code",
   "execution_count": 120,
   "metadata": {},
   "outputs": [
    {
     "name": "stdout",
     "output_type": "stream",
     "text": [
      "r2 score corresponding to 42 is 0.8259106747213214\n",
      "r2 score corresponding to 43 is 0.854169422548086\n",
      "r2 score corresponding to 44 is 0.7708399589656397\n",
      "r2 score corresponding to 45 is 0.6956813739136719\n",
      "r2 score corresponding to 46 is 0.7596706977348098\n",
      "r2 score corresponding to 47 is 0.8333904395810221\n",
      "r2 score corresponding to 48 is 0.7955494823472962\n",
      "r2 score corresponding to 49 is 0.8744968970420348\n",
      "r2 score corresponding to 50 is 0.836724530437585\n",
      "r2 score corresponding to 51 is 0.8860790169137683\n",
      "r2 score corresponding to 52 is 0.8372804237598912\n",
      "r2 score corresponding to 53 is 0.8465551418807403\n",
      "r2 score corresponding to 54 is 0.7658430199061282\n",
      "r2 score corresponding to 55 is 0.7741399033882492\n",
      "r2 score corresponding to 56 is 0.7614439339072102\n",
      "r2 score corresponding to 57 is 0.6783144811743208\n",
      "r2 score corresponding to 58 is 0.8523974604630518\n",
      "r2 score corresponding to 59 is 0.821615866451332\n",
      "r2 score corresponding to 60 is 0.8605472926661886\n",
      "r2 score corresponding to 61 is 0.7395584920477195\n",
      "r2 score corresponding to 62 is 0.8003901852953945\n",
      "r2 score corresponding to 63 is 0.8378646009732118\n",
      "r2 score corresponding to 64 is 0.7601261476140644\n",
      "r2 score corresponding to 65 is 0.8232190437374252\n",
      "r2 score corresponding to 66 is 0.8502213177117934\n",
      "r2 score corresponding to 67 is 0.8475033166928949\n",
      "r2 score corresponding to 68 is 0.794326297198412\n",
      "r2 score corresponding to 69 is 0.9298146116282335\n",
      "r2 score corresponding to 70 is 0.6272830448841968\n",
      "r2 score corresponding to 71 is 0.6763477350523778\n",
      "r2 score corresponding to 72 is 0.8178873809741388\n",
      "r2 score corresponding to 73 is 0.8300450930870191\n",
      "r2 score corresponding to 74 is 0.5877104250065743\n",
      "r2 score corresponding to 75 is 0.8922146229709508\n",
      "r2 score corresponding to 76 is 0.7718855358862216\n",
      "r2 score corresponding to 77 is 0.7850975141393391\n",
      "r2 score corresponding to 78 is 0.7516296422049583\n",
      "r2 score corresponding to 79 is 0.8695639150188044\n",
      "r2 score corresponding to 80 is 0.8330811020641488\n",
      "r2 score corresponding to 81 is 0.8732181495931352\n",
      "r2 score corresponding to 82 is 0.8441294720258765\n",
      "r2 score corresponding to 83 is 0.7775993713586624\n",
      "r2 score corresponding to 84 is 0.8168321419670905\n",
      "r2 score corresponding to 85 is 0.8624664875634415\n",
      "r2 score corresponding to 86 is 0.6891149240179353\n",
      "r2 score corresponding to 87 is 0.6273035179967004\n",
      "r2 score corresponding to 88 is 0.7652899362963762\n",
      "r2 score corresponding to 89 is 0.8131857541411903\n",
      "r2 score corresponding to 90 is 0.7974941287126901\n",
      "r2 score corresponding to 91 is 0.6955334944252565\n",
      "r2 score corresponding to 92 is 0.7868972864261021\n",
      "r2 score corresponding to 93 is 0.8121255496486756\n",
      "r2 score corresponding to 94 is 0.8850479016225063\n",
      "r2 score corresponding to 95 is 0.8628779573081845\n",
      "r2 score corresponding to 96 is 0.7642820809929778\n",
      "r2 score corresponding to 97 is 0.8111836775696047\n",
      "r2 score corresponding to 98 is 0.8668447541289064\n",
      "r2 score corresponding to 99 is 0.9147867562018962\n",
      "max r2 score corresponding to 69 is 0.9298146116282335\n",
      "Mean r2 score cross_val: 0.8031164511452147\n",
      "Standard Deviation in r2 score cross_val: 0.055123458834437644\n"
     ]
    }
   ],
   "source": [
    "#Checking max r2 score when we use Lasso\n",
    "lsreg=Lasso(alpha=0.001)\n",
    "r_state=maxr2_score(lsreg,x,y)"
   ]
  },
  {
   "cell_type": "code",
   "execution_count": 121,
   "metadata": {},
   "outputs": [
    {
     "data": {
      "text/plain": [
       "{'alpha': 1}"
      ]
     },
     "execution_count": 121,
     "metadata": {},
     "output_type": "execute_result"
    }
   ],
   "source": [
    "#Checking Ridge regression and finding best value for alpha\n",
    "from sklearn.linear_model import Ridge\n",
    "rdreg=Ridge()\n",
    "parameters={\"alpha\":[0.001,0.01,0.1,1]}\n",
    "clf=GridSearchCV(rdreg,parameters,cv=10)\n",
    "clf.fit(x,y)\n",
    "clf.best_params_"
   ]
  },
  {
   "cell_type": "code",
   "execution_count": 123,
   "metadata": {},
   "outputs": [
    {
     "name": "stdout",
     "output_type": "stream",
     "text": [
      "r2 score corresponding to 42 is 0.8260197687443216\n",
      "r2 score corresponding to 43 is 0.8561887628913346\n",
      "r2 score corresponding to 44 is 0.7690754203383212\n",
      "r2 score corresponding to 45 is 0.7187670239137006\n",
      "r2 score corresponding to 46 is 0.7618803911259826\n",
      "r2 score corresponding to 47 is 0.8360367125075926\n",
      "r2 score corresponding to 48 is 0.7971937623531685\n",
      "r2 score corresponding to 49 is 0.8734440855711709\n",
      "r2 score corresponding to 50 is 0.8348648266857366\n",
      "r2 score corresponding to 51 is 0.8839378466473706\n",
      "r2 score corresponding to 52 is 0.8352712474379722\n",
      "r2 score corresponding to 53 is 0.8425811611684709\n",
      "r2 score corresponding to 54 is 0.7709202156936994\n",
      "r2 score corresponding to 55 is 0.7781271774624918\n",
      "r2 score corresponding to 56 is 0.7633685448469428\n",
      "r2 score corresponding to 57 is 0.683539388184858\n",
      "r2 score corresponding to 58 is 0.8526742743281018\n",
      "r2 score corresponding to 59 is 0.8200733231392642\n",
      "r2 score corresponding to 60 is 0.8622788191624546\n",
      "r2 score corresponding to 61 is 0.7445963347878886\n",
      "r2 score corresponding to 62 is 0.8002410139920642\n",
      "r2 score corresponding to 63 is 0.8350501673999801\n",
      "r2 score corresponding to 64 is 0.7580207893924107\n",
      "r2 score corresponding to 65 is 0.822417813020467\n",
      "r2 score corresponding to 66 is 0.8518112426767371\n",
      "r2 score corresponding to 67 is 0.8454890058897192\n",
      "r2 score corresponding to 68 is 0.7919272448942289\n",
      "r2 score corresponding to 69 is 0.9297161302026666\n",
      "r2 score corresponding to 70 is 0.6281891872505123\n",
      "r2 score corresponding to 71 is 0.6813165049808427\n",
      "r2 score corresponding to 72 is 0.8199443008895182\n",
      "r2 score corresponding to 73 is 0.8346040494776024\n",
      "r2 score corresponding to 74 is 0.5941534066709435\n",
      "r2 score corresponding to 75 is 0.8927367725417691\n",
      "r2 score corresponding to 76 is 0.7757416725817508\n",
      "r2 score corresponding to 77 is 0.7875753027428496\n",
      "r2 score corresponding to 78 is 0.7510985811902674\n",
      "r2 score corresponding to 79 is 0.8653561235801607\n",
      "r2 score corresponding to 80 is 0.8361456788909001\n",
      "r2 score corresponding to 81 is 0.8733643711886163\n",
      "r2 score corresponding to 82 is 0.8443412917247946\n",
      "r2 score corresponding to 83 is 0.7735607593382641\n",
      "r2 score corresponding to 84 is 0.8159128069350526\n",
      "r2 score corresponding to 85 is 0.8631687648056918\n",
      "r2 score corresponding to 86 is 0.6785718674760667\n",
      "r2 score corresponding to 87 is 0.6301645588310052\n",
      "r2 score corresponding to 88 is 0.7634840058319396\n",
      "r2 score corresponding to 89 is 0.8080086416071959\n",
      "r2 score corresponding to 90 is 0.7997216044544738\n",
      "r2 score corresponding to 91 is 0.6929818250671425\n",
      "r2 score corresponding to 92 is 0.7835308345921725\n",
      "r2 score corresponding to 93 is 0.810792847059288\n",
      "r2 score corresponding to 94 is 0.8769593113609916\n",
      "r2 score corresponding to 95 is 0.8592728921899031\n",
      "r2 score corresponding to 96 is 0.7852726776311709\n",
      "r2 score corresponding to 97 is 0.8074139812739058\n",
      "r2 score corresponding to 98 is 0.8720356277428585\n",
      "r2 score corresponding to 99 is 0.9116685855324296\n",
      "max r2 score corresponding to 69 is 0.9297161302026666\n",
      "Mean r2 score cross_val: 0.8026165119342249\n",
      "Standard Deviation in r2 score cross_val: 0.055631110474378596\n"
     ]
    }
   ],
   "source": [
    "#Checking max r2 score when we use Ridge\n",
    "rdreg=Ridge(alpha=1)\n",
    "r_state=maxr2_score(rdreg,x,y)"
   ]
  },
  {
   "cell_type": "code",
   "execution_count": 124,
   "metadata": {},
   "outputs": [
    {
     "data": {
      "text/plain": [
       "{'learning_rate': 0.01, 'n_estimators': 500}"
      ]
     },
     "execution_count": 124,
     "metadata": {},
     "output_type": "execute_result"
    }
   ],
   "source": [
    "#Trying to use Gradient Boosting Technique\n",
    "#For getting best set of parameters, using GridSearchCV\n",
    "from sklearn.ensemble import GradientBoostingRegressor\n",
    "gbr=GradientBoostingRegressor()\n",
    "parameters={'learning_rate':[0.001,0.01,0.1,1],'n_estimators':[10,100,500,1000]}\n",
    "clf=GridSearchCV(gbr,parameters,cv=5)\n",
    "clf.fit(x,y)\n",
    "clf.best_params_"
   ]
  },
  {
   "cell_type": "code",
   "execution_count": 125,
   "metadata": {},
   "outputs": [
    {
     "name": "stdout",
     "output_type": "stream",
     "text": [
      "Mean r2 score for Gradient Boosting Regression: 0.70961586820597\n",
      "Standard Deviation in r2 score for Gradient Boosting Regression: 0.06356698751731153\n"
     ]
    }
   ],
   "source": [
    "#Using cross val score to check the mean r2 score and standard deviation\n",
    "gbr=GradientBoostingRegressor(learning_rate=0.1,n_estimators=500)\n",
    "print(\"Mean r2 score for Gradient Boosting Regression:\",cross_val_score(gbr,x,y,cv=5,scoring='r2').mean())\n",
    "print('Standard Deviation in r2 score for Gradient Boosting Regression:',cross_val_score(gbr,x,y,cv=5,scoring='r2').std())"
   ]
  },
  {
   "cell_type": "code",
   "execution_count": 126,
   "metadata": {},
   "outputs": [
    {
     "data": {
      "text/plain": [
       "{'base_estimator': LinearRegression(copy_X=True, fit_intercept=True, n_jobs=None, normalize=False),\n",
       " 'learning_rate': 1,\n",
       " 'n_estimators': 500}"
      ]
     },
     "execution_count": 126,
     "metadata": {},
     "output_type": "execute_result"
    }
   ],
   "source": [
    "#Using Ada Boost regression algorithm\n",
    "from sklearn.ensemble import AdaBoostRegressor\n",
    "from sklearn.tree import DecisionTreeRegressor\n",
    "ada_reg=AdaBoostRegressor()\n",
    "parameters={'learning_rate':[0.001,0.01,0.1,1],'n_estimators':[10,100,500,1000],'base_estimator':[lreg,lsreg,DecisionTreeRegressor()]}\n",
    "clf=GridSearchCV(ada_reg,parameters,cv=5)\n",
    "clf.fit(x,y)\n",
    "clf.best_params_"
   ]
  },
  {
   "cell_type": "code",
   "execution_count": 127,
   "metadata": {},
   "outputs": [
    {
     "name": "stdout",
     "output_type": "stream",
     "text": [
      "Mean r2 score for Ada Boost Regression: 0.7826910324304183\n",
      "Standard Deviation in r2 score for Ada Boost Regression: 0.05649494015535422\n"
     ]
    }
   ],
   "source": [
    "ada_reg=AdaBoostRegressor(base_estimator=lreg,learning_rate=1,n_estimators=500)\n",
    "print(\"Mean r2 score for Ada Boost Regression:\",cross_val_score(ada_reg,x,y,cv=5,scoring='r2').mean())\n",
    "print('Standard Deviation in r2 score for Ada Boost Regression:',cross_val_score(ada_reg,x,y,cv=5,scoring='r2').std())"
   ]
  },
  {
   "cell_type": "code",
   "execution_count": 128,
   "metadata": {},
   "outputs": [
    {
     "name": "stdout",
     "output_type": "stream",
     "text": [
      "r2 score corresponding to 42 is 0.8141182009546807\n",
      "r2 score corresponding to 43 is 0.8166750452640774\n",
      "r2 score corresponding to 44 is 0.7460526766826179\n",
      "r2 score corresponding to 45 is 0.6947402991308947\n",
      "r2 score corresponding to 46 is 0.7353411006486226\n",
      "r2 score corresponding to 47 is 0.8199037508985656\n",
      "r2 score corresponding to 48 is 0.7837875466430348\n",
      "r2 score corresponding to 49 is 0.8650866187557559\n",
      "r2 score corresponding to 50 is 0.8274835035352803\n",
      "r2 score corresponding to 51 is 0.886960556051655\n",
      "r2 score corresponding to 52 is 0.8510513384388141\n",
      "r2 score corresponding to 53 is 0.8543180581810089\n",
      "r2 score corresponding to 54 is 0.7485469081584666\n",
      "r2 score corresponding to 55 is 0.732066718007881\n",
      "r2 score corresponding to 56 is 0.7181142441794282\n",
      "r2 score corresponding to 57 is 0.6742769159838031\n",
      "r2 score corresponding to 58 is 0.872093400686404\n",
      "r2 score corresponding to 59 is 0.8140413198692373\n",
      "r2 score corresponding to 60 is 0.8271548984440817\n",
      "r2 score corresponding to 61 is 0.729789102303958\n",
      "r2 score corresponding to 62 is 0.8014558640713134\n",
      "r2 score corresponding to 63 is 0.8478216453659007\n",
      "r2 score corresponding to 64 is 0.764959377787099\n",
      "r2 score corresponding to 65 is 0.8170066539536202\n",
      "r2 score corresponding to 66 is 0.8486453034797293\n",
      "r2 score corresponding to 67 is 0.8363019813082673\n",
      "r2 score corresponding to 68 is 0.7981792862419959\n",
      "r2 score corresponding to 69 is 0.9282412979541378\n",
      "r2 score corresponding to 70 is 0.6027195626907893\n",
      "r2 score corresponding to 71 is 0.6387827671113264\n",
      "r2 score corresponding to 72 is 0.7994888269135498\n",
      "r2 score corresponding to 73 is 0.8019743122575433\n",
      "r2 score corresponding to 74 is 0.5906010304820828\n",
      "r2 score corresponding to 75 is 0.8784350903728007\n",
      "r2 score corresponding to 76 is 0.7631119398482655\n",
      "r2 score corresponding to 77 is 0.7784956084866355\n",
      "r2 score corresponding to 78 is 0.7291297491881413\n",
      "r2 score corresponding to 79 is 0.8651720183401508\n",
      "r2 score corresponding to 80 is 0.83351657408728\n",
      "r2 score corresponding to 81 is 0.8656780123671994\n",
      "r2 score corresponding to 82 is 0.8347617505357305\n",
      "r2 score corresponding to 83 is 0.7609734378251278\n",
      "r2 score corresponding to 84 is 0.812529456185446\n",
      "r2 score corresponding to 85 is 0.86342643403695\n",
      "r2 score corresponding to 86 is 0.6924538004761689\n",
      "r2 score corresponding to 87 is 0.6350317631230789\n",
      "r2 score corresponding to 88 is 0.7756959329924186\n",
      "r2 score corresponding to 89 is 0.800909374383763\n",
      "r2 score corresponding to 90 is 0.8036381178540354\n",
      "r2 score corresponding to 91 is 0.6867811623879263\n",
      "r2 score corresponding to 92 is 0.7775881993471343\n",
      "r2 score corresponding to 93 is 0.8090261629704967\n",
      "r2 score corresponding to 94 is 0.8788899109108482\n",
      "r2 score corresponding to 95 is 0.8765740303717365\n",
      "r2 score corresponding to 96 is 0.7432149459064752\n",
      "r2 score corresponding to 97 is 0.7972254438910564\n",
      "r2 score corresponding to 98 is 0.8406668269642397\n",
      "r2 score corresponding to 99 is 0.9189951659876217\n",
      "max r2 score corresponding to 69 is 0.9282412979541378\n",
      "Mean r2 score cross_val: 0.7963978920941629\n",
      "Standard Deviation in r2 score cross_val: 0.052097529570279834\n"
     ]
    }
   ],
   "source": [
    "#checking maximum r2 score corresponding to Ada Boost\n",
    "r_state=maxr2_score(ada_reg,x,y)"
   ]
  },
  {
   "cell_type": "code",
   "execution_count": 129,
   "metadata": {},
   "outputs": [],
   "source": [
    "#We tried all methods and till now Linear Regression is the best"
   ]
  },
  {
   "cell_type": "code",
   "execution_count": 130,
   "metadata": {},
   "outputs": [],
   "source": [
    "#Random state corresponding to highest r2 score is 69\n",
    "x_train,x_test,y_train,y_test=train_test_split(x,y,random_state=69,test_size=0.20)\n",
    "lreg=LinearRegression()\n",
    "lreg.fit(x_train,y_train)\n",
    "y_pred=lreg.predict(x_test)"
   ]
  },
  {
   "cell_type": "code",
   "execution_count": 131,
   "metadata": {},
   "outputs": [
    {
     "name": "stdout",
     "output_type": "stream",
     "text": [
      "RMSE is: 0.9265409282828918\n",
      "r2 score is: 0.9296517343098655\n"
     ]
    }
   ],
   "source": [
    "#Finding RMSE and r2 score using sklearn.metrics\n",
    "import numpy as np\n",
    "from sklearn.metrics import r2_score\n",
    "from sklearn.metrics import mean_squared_error\n",
    "print(\"RMSE is:\",np.sqrt(mean_squared_error(y_test,y_pred)))\n",
    "print(\"r2 score is:\",r2_score(y_test,y_pred))"
   ]
  },
  {
   "cell_type": "code",
   "execution_count": 132,
   "metadata": {},
   "outputs": [
    {
     "data": {
      "text/plain": [
       "['covid_lreg.pkl']"
      ]
     },
     "execution_count": 132,
     "metadata": {},
     "output_type": "execute_result"
    }
   ],
   "source": [
    "#Saving the modelas a pickle in a file\n",
    "from sklearn.externals import joblib\n",
    "joblib.dump(lreg,\"covid_lreg.pkl\")"
   ]
  },
  {
   "cell_type": "code",
   "execution_count": null,
   "metadata": {},
   "outputs": [],
   "source": []
  }
 ],
 "metadata": {
  "kernelspec": {
   "display_name": "Python 3",
   "language": "python",
   "name": "python3"
  },
  "language_info": {
   "codemirror_mode": {
    "name": "ipython",
    "version": 3
   },
   "file_extension": ".py",
   "mimetype": "text/x-python",
   "name": "python",
   "nbconvert_exporter": "python",
   "pygments_lexer": "ipython3",
   "version": "3.7.6"
  }
 },
 "nbformat": 4,
 "nbformat_minor": 4
}
